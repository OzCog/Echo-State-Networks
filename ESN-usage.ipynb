{
 "cells": [
  {
   "cell_type": "code",
   "execution_count": 1,
   "metadata": {
    "ExecuteTime": {
     "end_time": "2018-12-06T17:52:43.849008Z",
     "start_time": "2018-12-06T17:52:43.187679Z"
    }
   },
   "outputs": [],
   "source": [
    "import numpy as np\n",
    "import tensorflow as tf\n",
    "from tensorflow.python.ops import math_ops\n",
    "from ESN import EchoStateRNNCell\n",
    "import matplotlib.pyplot as plt\n",
    "\n",
    "# takes only current needed GPU memory\n",
    "config = tf.ConfigProto()\n",
    "config.gpu_options.allow_growth = True\n",
    "\n",
    "# random numbers\n",
    "random_seed = 1\n",
    "rng = np.random.RandomState(random_seed)"
   ]
  },
  {
   "cell_type": "markdown",
   "metadata": {
    "ExecuteTime": {
     "end_time": "2017-10-18T09:52:21.680054Z",
     "start_time": "2017-10-18T09:52:21.677602Z"
    }
   },
   "source": [
    "We define a simple simulation with a single batch. A timeseries of 'stime' timesteps is run. The input is a inpulse \n",
    "given in the first timestep consisting of a gaussian noise given to each unit."
   ]
  },
  {
   "cell_type": "code",
   "execution_count": 2,
   "metadata": {
    "ExecuteTime": {
     "end_time": "2018-12-06T17:52:45.080967Z",
     "start_time": "2018-12-06T17:52:45.006377Z"
    }
   },
   "outputs": [
    {
     "data": {
      "image/png": "[encoded data removed]",
      "text/plain": [
       "<Figure size 432x288 with 1 Axes>"
      ]
     },
     "metadata": {
      "needs_background": "light"
     },
     "output_type": "display_data"
    }
   ],
   "source": [
    "# Global variables\n",
    "batches = 1\n",
    "stime = 500\n",
    "num_units = 20\n",
    "num_inputs = 1\n",
    "rnn_init_state = np.zeros([1, num_units], dtype=\"float32\")\n",
    "rnn_inputs = np.zeros((batches, stime, num_inputs), dtype=\"float32\")\n",
    "rnn_inputs[0, :, 0] = np.sin(np.linspace(0,18*np.pi, stime)) + \\\n",
    "                      np.sin(np.linspace(0,5.3*np.pi, stime)) + \\\n",
    "                      np.sin(np.linspace(0,2.1*np.pi, stime)) \n",
    "plt.plot(rnn_inputs[0,:,:])\n",
    "plt.show()\n",
    "\n",
    "activation = lambda x: math_ops.tanh(x)\n"
   ]
  },
  {
   "cell_type": "markdown",
   "metadata": {},
   "source": [
    "Implementing a static graph without tensorflow API:"
   ]
  },
  {
   "cell_type": "code",
   "execution_count": null,
   "metadata": {
    "ExecuteTime": {
     "end_time": "2018-12-06T17:51:24.000990Z",
     "start_time": "2018-12-06T17:51:23.886086Z"
    },
    "scrolled": false
   },
   "outputs": [],
   "source": [
    "tf.reset_default_graph()\n",
    "static_graph = tf.Graph()\n",
    "with static_graph.as_default() as g:\n",
    "        \n",
    "    rng = np.random.RandomState(random_seed)\n",
    "\n",
    "    # Init the ESN cell\n",
    "    cell = EchoStateRNNCell(num_units=num_units, \n",
    "                            num_inputs=num_inputs,\n",
    "                            activation=activation, \n",
    "                            decay=0.01, \n",
    "                            epsilon=1e-10,\n",
    "                            alpha=0.0100,\n",
    "                            rng=rng)\n",
    "    \n",
    "    inputs = tf.placeholder(tf.float32, [batches, stime, num_inputs])\n",
    "    init_state = tf.placeholder(tf.float32, [1, num_units])\n",
    "    \n",
    "    # Build the graph\n",
    "    states = []\n",
    "    state = init_state\n",
    "    for t in range(stime):\n",
    "        prev_state = state\n",
    "        out, state = cell(inputs=inputs[0,t:(t+1),:], state=prev_state)\n",
    "        states.append(out)\n",
    "    \n",
    "    outputs = tf.reshape(states, [stime, num_units])\n",
    "\n",
    "    # Run the simulation\n",
    "    with tf.Session(config=config) as sess:\n",
    "        sess.run(tf.global_variables_initializer())\n",
    "        curr_outputs = sess.run(outputs, feed_dict={inputs: rnn_inputs,\n",
    "                                                   init_state: rnn_init_state})\n",
    "        plt.plot(np.squeeze(curr_outputs))\n",
    "        plt.show()"
   ]
  },
  {
   "cell_type": "markdown",
   "metadata": {
    "ExecuteTime": {
     "end_time": "2017-10-18T08:43:19.163683Z",
     "start_time": "2017-10-18T08:43:18.881012Z"
    }
   },
   "source": [
    "Implementing a dynamic graph using tensorflow API"
   ]
  },
  {
   "cell_type": "code",
   "execution_count": null,
   "metadata": {
    "ExecuteTime": {
     "end_time": "2017-10-27T15:09:46.226830Z",
     "start_time": "2017-10-27T15:09:45.983723Z"
    },
    "scrolled": false
   },
   "outputs": [],
   "source": [
    "tf.reset_default_graph()\n",
    "dynamic_graph = tf.Graph()\n",
    "with dynamic_graph.as_default() as g:\n",
    "    \n",
    "    rng = np.random.RandomState(random_seed)\n",
    "\n",
    "    # Init the ESN cell\n",
    "    cell = EchoStateRNNCell(num_units=num_units, \n",
    "                            num_inputs=num_inputs,\n",
    "                            activation=activation, \n",
    "                            decay=0.01, \n",
    "                            epsilon=1e-10,\n",
    "                            alpha=0.100,\n",
    "                            rng=rng)\n",
    "    \n",
    "    inputs = tf.placeholder(tf.float32, [batches, stime, num_inputs])\n",
    "    init_state = tf.placeholder(tf.float32, [1, num_units])\n",
    "\n",
    "    # Build the graph using the API\n",
    "    states, final_state = tf.nn.dynamic_rnn(cell, \n",
    "                                            inputs, \n",
    "                                            initial_state=init_state)\n",
    "    \n",
    "    # tf.nn.dynamic_rnn returns the state, not the output of the cell\n",
    "    outputs = tf.reshape(activation(states), [stime, num_units])\n",
    "     \n",
    "    # Run the simulation\n",
    "    with tf.Session(config=config) as sess:\n",
    "        sess.run(tf.global_variables_initializer())\n",
    "                 \n",
    "        stored_outputs = sess.run(outputs, feed_dict={inputs:rnn_inputs,\n",
    "                                                   init_state:rnn_init_state})\n",
    "                \n",
    "        plt.plot(np.squeeze(stored_outputs))       \n",
    "        plt.show()\n",
    "        "
   ]
  },
  {
   "cell_type": "markdown",
   "metadata": {},
   "source": [
    "Run  a simple training on the outputs"
   ]
  }
 ],
 "metadata": {
  "kernelspec": {
   "display_name": "Python 2",
   "language": "python",
   "name": "python2"
  },
  "language_info": {
   "codemirror_mode": {
    "name": "ipython",
    "version": 2
   },
   "file_extension": ".py",
   "mimetype": "text/x-python",
   "name": "python",
   "nbconvert_exporter": "python",
   "pygments_lexer": "ipython2",
   "version": "2.7.12"
  },
  "latex_envs": {
   "LaTeX_envs_menu_present": true,
   "autoclose": false,
   "autocomplete": true,
   "bibliofile": "biblio.bib",
   "cite_by": "apalike",
   "current_citInitial": 1,
   "eqLabelWithNumbers": true,
   "eqNumInitial": 1,
   "hotkeys": {
    "equation": "Ctrl-E",
    "itemize": "Ctrl-I"
   },
   "labels_anchors": false,
   "latex_user_defs": false,
   "report_style_numbering": false,
   "user_envs_cfg": false
  },
  "toc": {
   "nav_menu": {},
   "number_sections": true,
   "sideBar": true,
   "skip_h1_title": false,
   "title_cell": "Table of Contents",
   "title_sidebar": "Contents",
   "toc_cell": false,
   "toc_position": {},
   "toc_section_display": true,
   "toc_window_display": false
  },
  "varInspector": {
   "cols": {
    "lenName": 16,
    "lenType": 16,
    "lenVar": 40
   },
   "kernels_config": {
    "python": {
     "delete_cmd_postfix": "",
     "delete_cmd_prefix": "del ",
     "library": "var_list.py",
     "varRefreshCmd": "print(var_dic_list())"
    },
    "r": {
     "delete_cmd_postfix": ") ",
     "delete_cmd_prefix": "rm(",
     "library": "var_list.r",
     "varRefreshCmd": "cat(var_dic_list()) "
    }
   },
   "types_to_exclude": [
    "module",
    "function",
    "builtin_function_or_method",
    "instance",
    "_Feature"
   ],
   "window_display": false
  }
 },
 "nbformat": 4,
 "nbformat_minor": 2
}
